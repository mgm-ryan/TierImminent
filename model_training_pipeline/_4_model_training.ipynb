{
 "cells": [
  {
   "cell_type": "code",
   "execution_count": 0,
   "metadata": {
    "application/vnd.databricks.v1+cell": {
     "cellMetadata": {
      "byteLimit": 2048000,
      "rowLimit": 10000
     },
     "inputWidgets": {},
     "nuid": "f6597c28-d394-4385-a0b6-05cc139c8dab",
     "showTitle": false,
     "tableResultSettingsMap": {},
     "title": ""
    }
   },
   "outputs": [],
   "source": [
    "import numpy as np\n",
    "from model.nn import *\n",
    "import torch\n",
    "import mlflow\n",
    "import mlflow.pytorch\n",
    "from components.helper import *\n",
    "%load_ext autoreload\n",
    "%autoreload 2"
   ]
  },
  {
   "cell_type": "code",
   "execution_count": 0,
   "metadata": {
    "application/vnd.databricks.v1+cell": {
     "cellMetadata": {
      "byteLimit": 2048000,
      "rowLimit": 10000
     },
     "inputWidgets": {},
     "nuid": "35d20877-cc85-404f-ac18-0bbc471c5bf7",
     "showTitle": false,
     "tableResultSettingsMap": {},
     "title": ""
    }
   },
   "outputs": [],
   "source": [
    "import pickle\n",
    "import numpy as np\n",
    "\n",
    "# Define DBFS and local paths\n",
    "dbfs_file_path = \"dbfs:/mnt/proddatalake/dev/TierImminent/intermediate_data/borgata_new_02102025_np_dict.pkl\"\n",
    "local_file_path = \"/Workspace/Users/609399@mgmresorts.com/temp.pkl\"\n",
    "\n",
    "# Copy the file from DBFS to local storage\n",
    "dbutils.fs.cp(dbfs_file_path, f\"file:{local_file_path}\")\n",
    "\n",
    "# Load the NumPy array from the pickle file\n",
    "with open(local_file_path, \"rb\") as f:\n",
    "    loaded_array = pickle.load(f)"
   ]
  },
  {
   "cell_type": "code",
   "execution_count": 0,
   "metadata": {
    "application/vnd.databricks.v1+cell": {
     "cellMetadata": {
      "byteLimit": 2048000,
      "rowLimit": 10000
     },
     "inputWidgets": {},
     "nuid": "2f3d0d50-de4f-4bf3-94ab-0a14af9b0245",
     "showTitle": false,
     "tableResultSettingsMap": {},
     "title": ""
    }
   },
   "outputs": [],
   "source": [
    "y = loaded_array['label_tensor']\n",
    "X = loaded_array['train_tensor']\n",
    "length = loaded_array['length_tensor']\n",
    "ids = loaded_array['id_tensor']"
   ]
  },
  {
   "cell_type": "code",
   "execution_count": 0,
   "metadata": {
    "application/vnd.databricks.v1+cell": {
     "cellMetadata": {
      "byteLimit": 2048000,
      "rowLimit": 10000
     },
     "inputWidgets": {},
     "nuid": "5372d868-7d0b-424d-8daf-2820bbf532c2",
     "showTitle": false,
     "tableResultSettingsMap": {},
     "title": ""
    }
   },
   "outputs": [],
   "source": [
    "sum(y)"
   ]
  },
  {
   "cell_type": "code",
   "execution_count": 0,
   "metadata": {
    "application/vnd.databricks.v1+cell": {
     "cellMetadata": {
      "byteLimit": 2048000,
      "rowLimit": 10000
     },
     "inputWidgets": {},
     "nuid": "ee918d41-7dbe-4cf6-b996-99a72b5d95be",
     "showTitle": false,
     "tableResultSettingsMap": {},
     "title": ""
    }
   },
   "outputs": [],
   "source": [
    "train_labels, train_outputs, labels, outputs, run_id = train_lstm(X, y, length, ids, input_dim=X.shape[2], hidden_dim=64, num_layers=1, batch_size=16, learning_rate=0.001, num_epochs=10, balance = 40.0, logging=True)"
   ]
  },
  {
   "cell_type": "code",
   "execution_count": 0,
   "metadata": {
    "application/vnd.databricks.v1+cell": {
     "cellMetadata": {
      "byteLimit": 2048000,
      "rowLimit": 10000
     },
     "inputWidgets": {},
     "nuid": "ed76829d-ad5e-4df3-9f87-76011d4086d4",
     "showTitle": false,
     "tableResultSettingsMap": {},
     "title": ""
    }
   },
   "outputs": [],
   "source": [
    "mlflow.set_registry_uri(\"databricks-uc\")\n",
    "model_name = \"data_science_mart.tierimminent_cleaned.borgata_lstm_model_new\"\n",
    "mlflow.register_model(f\"runs:/{run_id}/lstm_pytorch_model_{date.today().strftime('%Y-%m-%d')}\", model_name)"
   ]
  },
  {
   "cell_type": "code",
   "execution_count": 0,
   "metadata": {
    "application/vnd.databricks.v1+cell": {
     "cellMetadata": {
      "byteLimit": 2048000,
      "rowLimit": 10000
     },
     "inputWidgets": {},
     "nuid": "5120ab55-5d0d-4ae6-b4c7-c5077aa2f9d4",
     "showTitle": false,
     "tableResultSettingsMap": {},
     "title": ""
    }
   },
   "outputs": [],
   "source": [
    "outputs = torch.tensor(outputs, dtype=torch.float32).cpu()\n",
    "outputs = torch.sigmoid(outputs)\n",
    "\n",
    "train_outputs = torch.tensor(outputs, dtype=torch.float32).cpu()\n",
    "train_outputs = torch.sigmoid(train_outputs)\n",
    "\n",
    "fpr, tpr, thresholds = roc_curve(labels, outputs)\n",
    "auc_score = roc_auc_score(labels, outputs)\n",
    "plt.figure()\n",
    "plt.plot(fpr, tpr, label=f\"ROC Curve (AUC = {auc_score:.2f})\")\n",
    "plt.plot([0, 1], [0, 1], 'k--', label=\"Random Guess\")\n",
    "plt.xlabel(\"False Positive Rate\")\n",
    "plt.ylabel(\"True Positive Rate\")\n",
    "plt.title(\"ROC Curve\")\n",
    "plt.legend(loc=\"best\")\n",
    "plt.grid()\n",
    "for i in range(0, len(thresholds), len(thresholds)//20):\n",
    "    plt.text(fpr[i], tpr[i], f'{thresholds[i]:.2f}', fontsize=8, color='red')\n",
    "#plt.savefig(\"/Workspace/Users/609399@mgmresorts.com/Tier Imminent/model_performance_metric/sim_2024_roc.png\")\n",
    "plt.show()\n",
    "plt.close() "
   ]
  }
 ],
 "metadata": {
  "application/vnd.databricks.v1+notebook": {
   "computePreferences": null,
   "dashboards": [],
   "environmentMetadata": {
    "base_environment": "",
    "environment_version": "1"
   },
   "language": "python",
   "notebookMetadata": {
    "pythonIndentUnit": 4
   },
   "notebookName": "_4_model_training",
   "widgets": {}
  },
  "language_info": {
   "name": "python"
  }
 },
 "nbformat": 4,
 "nbformat_minor": 0
}
