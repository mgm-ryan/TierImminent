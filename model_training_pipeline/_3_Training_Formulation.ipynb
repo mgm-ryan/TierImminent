{
 "cells": [
  {
   "cell_type": "code",
   "execution_count": 0,
   "metadata": {
    "application/vnd.databricks.v1+cell": {
     "cellMetadata": {
      "byteLimit": 2048000,
      "rowLimit": 10000
     },
     "inputWidgets": {},
     "nuid": "5ea37d08-d7ab-46b8-b57b-f3589b05983a",
     "showTitle": false,
     "tableResultSettingsMap": {},
     "title": ""
    }
   },
   "outputs": [],
   "source": [
    "from tqdm import tqdm\n",
    "from model.nn import *\n",
    "from pyspark.sql import functions as F\n",
    "from components.config import *\n",
    "from components.helper import *"
   ]
  },
  {
   "cell_type": "code",
   "execution_count": 0,
   "metadata": {
    "application/vnd.databricks.v1+cell": {
     "cellMetadata": {
      "byteLimit": 2048000,
      "rowLimit": 10000
     },
     "inputWidgets": {},
     "nuid": "a019f1e0-8f81-4bf1-92c4-fa9989a71efb",
     "showTitle": false,
     "tableResultSettingsMap": {},
     "title": ""
    }
   },
   "outputs": [],
   "source": [
    "property_name = \"Borgata\""
   ]
  },
  {
   "cell_type": "code",
   "execution_count": 0,
   "metadata": {
    "application/vnd.databricks.v1+cell": {
     "cellMetadata": {
      "byteLimit": 2048000,
      "rowLimit": 10000
     },
     "inputWidgets": {},
     "nuid": "d84a3908-ec20-4d0c-aed6-76a07acd659e",
     "showTitle": false,
     "tableResultSettingsMap": {},
     "title": ""
    }
   },
   "outputs": [],
   "source": [
    "path = \"data_science_mart.tierimminent_cleaned.\"\n",
    "table_name = f\"{property_name}\"+\"_trip_cleaned_return\"\n",
    "cleaned_df = spark.table(f\"{path}{table_name}\")\n",
    "\n",
    "unsucess_id = cleaned_df.groupby('train_guest_id').agg(F.count('change_assigned').alias('count')).where('count = 0').sample(withReplacement=False, fraction=0.5, seed=269)\n",
    "train_final = cleaned_df.join(unsucess_id, on = 'train_guest_id', how='leftanti').select(*cleaned_df.columns)\n",
    "train_final = train_final.where('(change_assigned != transactiondate) or change_assigned is null')"
   ]
  },
  {
   "cell_type": "code",
   "execution_count": 0,
   "metadata": {
    "application/vnd.databricks.v1+cell": {
     "cellMetadata": {
      "byteLimit": 2048000,
      "rowLimit": 10000
     },
     "inputWidgets": {},
     "nuid": "37176e28-2d90-45f7-a83f-82df8dd0a35c",
     "showTitle": false,
     "tableResultSettingsMap": {},
     "title": ""
    }
   },
   "outputs": [],
   "source": [
    "train_tensor = []\n",
    "label_tensor = []\n",
    "length_tensor = []\n",
    "id_tensor = []\n",
    "\n",
    "features_scaled = []\n",
    "for i in range(len(FEATURE_NAMES_RETURN)):\n",
    "    features_scaled.append(FEATURE_NAMES_RETURN[i]+'_scaled')\n",
    "\n",
    "for i in tqdm(range(365, 0, -1)):\n",
    "    cus_list = train_final.filter(train_final.remaining_days == i).select('train_guest_id')\n",
    "    temp_df = train_final.join(cus_list, (train_final.train_guest_id == cus_list.train_guest_id) & (train_final.remaining_days >= i), how = 'inner').drop(train_final.train_guest_id)\n",
    "    temp_df = temp_df.withColumn('rn', F.row_number().over(Window.partitionBy('train_guest_id').orderBy('remaining_days'))).where('rn <= 6')\n",
    "    if temp_df.count() > 0: train_np, label, length, train_id = create_sequences_and_labels(temp_df, features_scaled, 6)\n",
    "    \n",
    "    train_tensor.extend(train_np)\n",
    "    label_tensor.extend(label)\n",
    "    length_tensor.extend(length)\n",
    "    id_tensor.extend(train_id)"
   ]
  },
  {
   "cell_type": "code",
   "execution_count": 0,
   "metadata": {
    "application/vnd.databricks.v1+cell": {
     "cellMetadata": {
      "byteLimit": 2048000,
      "rowLimit": 10000
     },
     "inputWidgets": {},
     "nuid": "41635b4b-e16a-47f2-8066-f0b0e1cfb246",
     "showTitle": false,
     "tableResultSettingsMap": {},
     "title": ""
    }
   },
   "outputs": [],
   "source": [
    "len(train_tensor)"
   ]
  },
  {
   "cell_type": "code",
   "execution_count": 0,
   "metadata": {
    "application/vnd.databricks.v1+cell": {
     "cellMetadata": {},
     "inputWidgets": {},
     "nuid": "b770ff1a-a058-4bc4-92ed-46410625f7ce",
     "showTitle": false,
     "tableResultSettingsMap": {},
     "title": ""
    }
   },
   "outputs": [],
   "source": []
  }
 ],
 "metadata": {
  "application/vnd.databricks.v1+notebook": {
   "computePreferences": null,
   "dashboards": [],
   "environmentMetadata": {
    "base_environment": "",
    "client": "1"
   },
   "language": "python",
   "notebookMetadata": {
    "pythonIndentUnit": 4
   },
   "notebookName": "_3_Training_Formulation",
   "widgets": {}
  },
  "language_info": {
   "name": "python"
  }
 },
 "nbformat": 4,
 "nbformat_minor": 0
}
