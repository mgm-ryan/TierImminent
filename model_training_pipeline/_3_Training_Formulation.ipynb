{
 "cells": [
  {
   "cell_type": "code",
   "execution_count": 0,
   "metadata": {
    "application/vnd.databricks.v1+cell": {
     "cellMetadata": {
      "byteLimit": 2048000,
      "rowLimit": 10000
     },
     "inputWidgets": {},
     "nuid": "5ea37d08-d7ab-46b8-b57b-f3589b05983a",
     "showTitle": false,
     "tableResultSettingsMap": {},
     "title": ""
    }
   },
   "outputs": [],
   "source": [
    "from tqdm import tqdm\n",
    "from model.nn import *\n",
    "from pyspark.sql import functions as F\n",
    "from components.config import *\n",
    "from components.helper import *\n",
    "import pickle\n",
    "import os\n",
    "import shutil\n",
    "%load_ext autoreload\n",
    "%autoreload 2"
   ]
  },
  {
   "cell_type": "code",
   "execution_count": 0,
   "metadata": {
    "application/vnd.databricks.v1+cell": {
     "cellMetadata": {
      "byteLimit": 2048000,
      "rowLimit": 10000
     },
     "inputWidgets": {},
     "nuid": "a019f1e0-8f81-4bf1-92c4-fa9989a71efb",
     "showTitle": false,
     "tableResultSettingsMap": {},
     "title": ""
    }
   },
   "outputs": [],
   "source": [
    "property_name = \"Borgata\""
   ]
  },
  {
   "cell_type": "code",
   "execution_count": 0,
   "metadata": {
    "application/vnd.databricks.v1+cell": {
     "cellMetadata": {
      "byteLimit": 2048000,
      "rowLimit": 10000
     },
     "inputWidgets": {},
     "nuid": "d84a3908-ec20-4d0c-aed6-76a07acd659e",
     "showTitle": false,
     "tableResultSettingsMap": {},
     "title": ""
    }
   },
   "outputs": [],
   "source": [
    "path = \"data_science_mart.tierimminent_cleaned.\"\n",
    "table_name = f\"{property_name}\"+\"_trip_cleaned_return\"\n",
    "cleaned_df = spark.table(f\"{path}{table_name}\")\n",
    "\n",
    "unsucess_id = cleaned_df.groupby('train_guest_id').agg(F.sum('label').alias('s')).where('s = 0').sample(withReplacement=False, fraction=0.7, seed=269)\n",
    "train_final = cleaned_df.join(unsucess_id, on = 'train_guest_id', how='leftanti').select(*cleaned_df.columns)\n",
    "train_final = train_final.where('(change_assigned != transactiondate) or change_assigned is null')\n",
    "train_final = train_final.distinct()\n",
    "train_final.count()"
   ]
  },
  {
   "cell_type": "code",
   "execution_count": 0,
   "metadata": {
    "application/vnd.databricks.v1+cell": {
     "cellMetadata": {
      "byteLimit": 2048000,
      "rowLimit": 10000
     },
     "inputWidgets": {},
     "nuid": "37176e28-2d90-45f7-a83f-82df8dd0a35c",
     "showTitle": false,
     "tableResultSettingsMap": {},
     "title": ""
    }
   },
   "outputs": [],
   "source": [
    "train_tensor = []\n",
    "label_tensor = []\n",
    "length_tensor = []\n",
    "id_tensor = []\n",
    "\n",
    "sanity_train_length = []\n",
    "\n",
    "features_scaled = []\n",
    "for i in range(len(FEATURE_NAMES_RETURN)):\n",
    "    features_scaled.append(FEATURE_NAMES_RETURN[i]+'_scaled')\n",
    "\n",
    "for i in tqdm(range(365, 0, -1)):\n",
    "    cus_list = train_final.filter(train_final.remaining_days == i).select('train_guest_id').distinct()\n",
    "    temp_df = train_final.join(cus_list, (train_final.train_guest_id == cus_list.train_guest_id) & (train_final.remaining_days >= i), how = 'inner').drop(train_final.train_guest_id)\n",
    "    temp_df = temp_df.withColumn('rn', F.row_number().over(Window.partitionBy('train_guest_id').orderBy('remaining_days'))).where('rn <= 6')\n",
    "    train_np, label, length, train_id = create_sequences_and_labels(temp_df, features_scaled, 6)\n",
    "\n",
    "    print(cus_list.count(), len(train_np))\n",
    "    \n",
    "    sanity_train_length.append(len(train_np))\n",
    "    train_tensor.extend(train_np)\n",
    "    label_tensor.extend(label)\n",
    "    length_tensor.extend(length)\n",
    "    id_tensor.extend(train_id)"
   ]
  },
  {
   "cell_type": "code",
   "execution_count": 0,
   "metadata": {
    "application/vnd.databricks.v1+cell": {
     "cellMetadata": {
      "byteLimit": 2048000,
      "rowLimit": 10000
     },
     "inputWidgets": {},
     "nuid": "c490482b-7f67-4d53-a35e-c46fc6efcb1e",
     "showTitle": false,
     "tableResultSettingsMap": {},
     "title": ""
    }
   },
   "outputs": [],
   "source": [
    "sanity_train_length = np.array(sanity_train_length)\n",
    "train_tensor = np.array(train_tensor)\n",
    "label_tensor = np.array(label_tensor)\n",
    "length_tensor = np.array(length_tensor)\n",
    "id_tensor = np.array(id_tensor)"
   ]
  },
  {
   "cell_type": "code",
   "execution_count": 0,
   "metadata": {
    "application/vnd.databricks.v1+cell": {
     "cellMetadata": {
      "byteLimit": 2048000,
      "rowLimit": 10000
     },
     "inputWidgets": {},
     "nuid": "60c1e2fc-ed55-40ed-8610-6fd8e4e8530c",
     "showTitle": false,
     "tableResultSettingsMap": {},
     "title": ""
    }
   },
   "outputs": [],
   "source": [
    "np_dict = {\n",
    "    \"sanity_train_length\": sanity_train_length,\n",
    "    \"train_tensor\": train_tensor,\n",
    "    \"label_tensor\": label_tensor,\n",
    "    \"length_tensor\": length_tensor,\n",
    "    \"id_tensor\": id_tensor\n",
    "}\n",
    "\n",
    "local_tmp_dir = \"/Workspace/Users/609399@mgmresorts.com/pickle_files\"\n",
    "dbfs_target_dir = \"dbfs:/mnt/proddatalake/dev/TierImminent/intermediate_data/borgata_return_01312025\"\n",
    "os.makedirs(local_tmp_dir, exist_ok=True)\n",
    "\n",
    "with open(f\"{local_tmp_dir}/np_dict.pkl\", \"wb\") as f:\n",
    "    pickle.dump(np_dict, f)\n",
    "\n",
    "dbutils.fs.cp(f\"file:{local_tmp_dir}/np_dict.pkl\", f\"{dbfs_target_dir}_np_dict.pkl\")\n",
    "\n",
    "shutil.rmtree(local_tmp_dir)\n"
   ]
  },
  {
   "cell_type": "markdown",
   "metadata": {
    "application/vnd.databricks.v1+cell": {
     "cellMetadata": {},
     "inputWidgets": {},
     "nuid": "fa458f17-e23c-406d-b6de-4330219321da",
     "showTitle": false,
     "tableResultSettingsMap": {},
     "title": ""
    }
   },
   "source": [
    "# New customer\n"
   ]
  },
  {
   "cell_type": "code",
   "execution_count": 0,
   "metadata": {
    "application/vnd.databricks.v1+cell": {
     "cellMetadata": {
      "byteLimit": 2048000,
      "rowLimit": 10000
     },
     "inputWidgets": {},
     "nuid": "3b7d9275-935b-4e77-8475-9b5eabb443c2",
     "showTitle": false,
     "tableResultSettingsMap": {},
     "title": ""
    }
   },
   "outputs": [],
   "source": [
    "path = \"data_science_mart.tierimminent_cleaned.\"\n",
    "table_name = f\"{property_name}\"+\"_trip_cleaned_new\"\n",
    "cleaned_df = spark.table(f\"{path}{table_name}\")\n",
    "\n",
    "unsucess_id = cleaned_df.groupby('train_guest_id').agg(F.sum('label').alias('s')).where('s = 0').sample(withReplacement=False, fraction=0.5, seed=269)\n",
    "train_final = cleaned_df.join(unsucess_id, on = 'train_guest_id', how='leftanti').select(*cleaned_df.columns)\n",
    "train_final = train_final.where('(change_assigned != transactiondate) or change_assigned is null')\n",
    "train_final = train_final.distinct()\n",
    "train_final = train_final.cache()\n",
    "train_final.count()"
   ]
  },
  {
   "cell_type": "code",
   "execution_count": 0,
   "metadata": {
    "application/vnd.databricks.v1+cell": {
     "cellMetadata": {
      "byteLimit": 2048000,
      "rowLimit": 10000
     },
     "inputWidgets": {},
     "nuid": "376d7b83-b301-4e18-8916-9a32e9dab3f4",
     "showTitle": false,
     "tableResultSettingsMap": {},
     "title": ""
    }
   },
   "outputs": [],
   "source": [
    "train_final.where('label = 1').count()"
   ]
  },
  {
   "cell_type": "code",
   "execution_count": 0,
   "metadata": {
    "application/vnd.databricks.v1+cell": {
     "cellMetadata": {
      "byteLimit": 2048000,
      "rowLimit": 10000
     },
     "inputWidgets": {},
     "nuid": "855c16c8-19f4-47aa-b08b-903d421e5c16",
     "showTitle": false,
     "tableResultSettingsMap": {},
     "title": ""
    }
   },
   "outputs": [],
   "source": [
    "train_final.describe().display()"
   ]
  },
  {
   "cell_type": "code",
   "execution_count": 0,
   "metadata": {
    "application/vnd.databricks.v1+cell": {
     "cellMetadata": {
      "byteLimit": 2048000,
      "rowLimit": 10000
     },
     "inputWidgets": {},
     "nuid": "5cebb1cf-500b-4178-ac51-e38e8d0d9117",
     "showTitle": false,
     "tableResultSettingsMap": {},
     "title": ""
    }
   },
   "outputs": [],
   "source": [
    "train_tensor = []\n",
    "label_tensor = []\n",
    "length_tensor = []\n",
    "id_tensor = []\n",
    "\n",
    "sanity_train_length = []\n",
    "\n",
    "features_scaled = []\n",
    "for i in range(len(FEATURE_NAMES_NEW)):\n",
    "    features_scaled.append(FEATURE_NAMES_NEW[i]+'_scaled')\n",
    "\n",
    "for i in tqdm(range(365, 0, -1)):\n",
    "    cus_list = train_final.filter(train_final.remaining_days == i).select('train_guest_id').distinct()\n",
    "    temp_df = train_final.join(cus_list, (train_final.train_guest_id == cus_list.train_guest_id) & (train_final.remaining_days >= i), how = 'inner').drop(train_final.train_guest_id)\n",
    "    temp_df = temp_df.withColumn('rn', F.row_number().over(Window.partitionBy('train_guest_id').orderBy('remaining_days'))).where('rn <= 6')\n",
    "    train_np, label, length, train_id = create_sequences_and_labels(temp_df, features_scaled, 6)\n",
    "\n",
    "    print(cus_list.count(), len(train_np))\n",
    "    \n",
    "    sanity_train_length.append(len(train_np))\n",
    "    train_tensor.extend(train_np)\n",
    "    label_tensor.extend(label)\n",
    "    length_tensor.extend(length)\n",
    "    id_tensor.extend(train_id)"
   ]
  },
  {
   "cell_type": "code",
   "execution_count": 0,
   "metadata": {
    "application/vnd.databricks.v1+cell": {
     "cellMetadata": {
      "byteLimit": 2048000,
      "rowLimit": 10000
     },
     "inputWidgets": {},
     "nuid": "d35c7562-eab6-4a3b-98bb-32d8910c312b",
     "showTitle": false,
     "tableResultSettingsMap": {},
     "title": ""
    }
   },
   "outputs": [],
   "source": [
    "sanity_train_length = np.array(sanity_train_length)\n",
    "train_tensor = np.array(train_tensor)\n",
    "label_tensor = np.array(label_tensor)\n",
    "length_tensor = np.array(length_tensor)\n",
    "id_tensor = np.array(id_tensor)"
   ]
  },
  {
   "cell_type": "code",
   "execution_count": 0,
   "metadata": {
    "application/vnd.databricks.v1+cell": {
     "cellMetadata": {
      "byteLimit": 2048000,
      "rowLimit": 10000
     },
     "inputWidgets": {},
     "nuid": "c1962777-cb4f-40bf-b2af-1806c0f94f3d",
     "showTitle": false,
     "tableResultSettingsMap": {},
     "title": ""
    }
   },
   "outputs": [],
   "source": [
    "np_dict = {\n",
    "    \"sanity_train_length\": sanity_train_length,\n",
    "    \"train_tensor\": train_tensor,\n",
    "    \"label_tensor\": label_tensor,\n",
    "    \"length_tensor\": length_tensor,\n",
    "    \"id_tensor\": id_tensor\n",
    "}\n",
    "\n",
    "local_tmp_dir = \"/Workspace/Users/609399@mgmresorts.com/pickle_files\"\n",
    "dbfs_target_dir = \"dbfs:/mnt/proddatalake/dev/TierImminent/intermediate_data/borgata_new_02102025\"\n",
    "os.makedirs(local_tmp_dir, exist_ok=True)\n",
    "\n",
    "with open(f\"{local_tmp_dir}/np_dict.pkl\", \"wb\") as f:\n",
    "    pickle.dump(np_dict, f)\n",
    "\n",
    "dbutils.fs.cp(f\"file:{local_tmp_dir}/np_dict.pkl\", f\"{dbfs_target_dir}_np_dict.pkl\")\n",
    "\n",
    "shutil.rmtree(local_tmp_dir)\n"
   ]
  }
 ],
 "metadata": {
  "application/vnd.databricks.v1+notebook": {
   "computePreferences": null,
   "dashboards": [],
   "environmentMetadata": {
    "base_environment": "",
    "environment_version": "1"
   },
   "language": "python",
   "notebookMetadata": {
    "mostRecentlyExecutedCommandWithImplicitDF": {
     "commandId": 5257803514201906,
     "dataframes": [
      "_sqldf"
     ]
    },
    "pythonIndentUnit": 4
   },
   "notebookName": "_3_Training_Formulation",
   "widgets": {}
  },
  "language_info": {
   "name": "python"
  }
 },
 "nbformat": 4,
 "nbformat_minor": 0
}
