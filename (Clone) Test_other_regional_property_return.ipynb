{
 "cells": [
  {
   "cell_type": "code",
   "execution_count": 0,
   "metadata": {
    "application/vnd.databricks.v1+cell": {
     "cellMetadata": {
      "byteLimit": 2048000,
      "rowLimit": 10000
     },
     "inputWidgets": {},
     "nuid": "1b8bd8c8-bf47-4d2e-a667-4a039903ce72",
     "showTitle": false,
     "tableResultSettingsMap": {},
     "title": ""
    }
   },
   "outputs": [],
   "source": [
    "%load_ext autoreload\n",
    "%autoreload 2\n",
    "import os\n",
    "import pandas as pd\n",
    "import pyspark.sql.functions as F\n",
    "from pyspark.sql import Window\n",
    "from pyspark.sql.types import ArrayType, FloatType\n",
    "\n",
    "from pyspark.ml.feature import StringIndexer, OneHotEncoder, VectorAssembler\n",
    "from pyspark.ml.classification import LogisticRegression\n",
    "from pyspark.ml import Pipeline\n",
    "from pyspark.ml.evaluation import BinaryClassificationEvaluator\n",
    "from pyspark.ml.feature import StringIndexer, OneHotEncoder\n",
    "from pyspark.ml import Pipeline\n",
    "\n",
    "from sklearn.model_selection import train_test_split\n",
    "from sklearn.metrics import accuracy_score, classification_report, f1_score, precision_score, recall_score\n",
    "from sklearn.preprocessing import OneHotEncoder\n",
    "from sklearn.compose import ColumnTransformer\n",
    "\n",
    "import lightgbm as lgb\n",
    "\n",
    "from components.data_prep import *\n",
    "from components.preprocess import *\n",
    "from model.nn import *\n",
    "from components.helper import *\n",
    "from components.config import *\n",
    "#from ingestion import *\n",
    "import mlflow\n",
    "cdp_path='/dbfs/mnt/cdpprod/Customer_Profile_Aggregates/'\n",
    "mgm_reward = spark.read.parquet('dbfs:/mnt/proddatalake/prod/CFA/CFA_overall_lvl')\n",
    "rc = spark.read.format(\"delta\").load('dbfs:/mnt/edhprodenrich/Enterprise Data Store/Secured/data/Cleanse/RCX/RCX_enums/CurrentState')\n",
    "la = spark.read.format(\"delta\").load(\"dbfs:/mnt/edhprodenrich/Enterprise Data Store/Secured/data/Cleanse/RCX/RCX_loyalty_activities/CurrentState\")"
   ]
  },
  {
   "cell_type": "code",
   "execution_count": 0,
   "metadata": {
    "application/vnd.databricks.v1+cell": {
     "cellMetadata": {
      "byteLimit": 2048000,
      "rowLimit": 10000
     },
     "inputWidgets": {},
     "nuid": "fe165f6a-9bc3-4c7b-b7ea-b886efa16337",
     "showTitle": false,
     "tableResultSettingsMap": {},
     "title": ""
    }
   },
   "outputs": [],
   "source": [
    "trip_data.select('property_name').distinct().display()"
   ]
  },
  {
   "cell_type": "code",
   "execution_count": 0,
   "metadata": {
    "application/vnd.databricks.v1+cell": {
     "cellMetadata": {
      "byteLimit": 2048000,
      "rowLimit": 10000
     },
     "inputWidgets": {},
     "nuid": "6f906f4e-002f-4c52-a129-4eef8c8ae0df",
     "showTitle": false,
     "tableResultSettingsMap": {},
     "title": ""
    }
   },
   "outputs": [],
   "source": [
    "cust_profile_path = 'dbfs:/mnt/cdpprod/Customer_Profile_Customer_nopii/'+'2025-02-03'+'/';\n",
    "customer_data = spark.read.parquet(cust_profile_path)\n",
    "cfa = spark.read.parquet(\"dbfs:/mnt/proddatalake/dev/CFA/CFA_overall_lvl_Region_Beau\")\n",
    "trip_data = spark.read.parquet('dbfs:/mnt/cdpprod/Customer_Profile_Aggregates/2025-02-05')\n",
    "trip_data = trip_data.groupBy('guest_id','TripStart','TripEnd').agg(F.sum('net_gaming_revenue').alias('win_loss'))"
   ]
  },
  {
   "cell_type": "code",
   "execution_count": 0,
   "metadata": {
    "application/vnd.databricks.v1+cell": {
     "cellMetadata": {
      "byteLimit": 2048000,
      "rowLimit": 10000
     },
     "inputWidgets": {},
     "nuid": "3170797c-135f-4da1-b94f-3a0635ce4216",
     "showTitle": false,
     "tableResultSettingsMap": {},
     "title": ""
    }
   },
   "outputs": [],
   "source": [
    "regional = \"Beau Rivage\""
   ]
  },
  {
   "cell_type": "code",
   "execution_count": 0,
   "metadata": {
    "application/vnd.databricks.v1+cell": {
     "cellMetadata": {
      "byteLimit": 2048000,
      "rowLimit": 10000
     },
     "inputWidgets": {},
     "nuid": "0a4041cc-82d0-4b56-b598-a53b131eaa8d",
     "showTitle": false,
     "tableResultSettingsMap": {},
     "title": ""
    }
   },
   "outputs": [],
   "source": [
    "yesterday=str(max(os.listdir(cdp_path)))\n",
    "\n",
    "trip_data = spark.read.parquet('dbfs:/mnt/cdpprod/Customer_Profile_Aggregates/'+yesterday+'/')\\\n",
    "            .withColumn('Site', F.when(F.col('SiteGroup') == 'LAS', 'Vegas').otherwise('Region'))\\\n",
    "            .filter(F.col('Mnth')>='2016-01-01')\\\n",
    "            .filter((F.col('TripRvMgmt_Segment')!='Convention')|F.col('TripRvMgmt_Segment').isNull())\n",
    "trip_data = trip_data.withColumn(\"TripID\",F.concat(F.col(\"Guest_ID\"),F.lit('_'), F.col(\"TripStart\"),F.lit('_'),F.col(\"TripEnd\")))\n",
    "\n",
    "CPA = trip_data.where(\"property_name != 'BetMGM' and tripstart < '2024-12-31'\").select('guest_id','Property_Name','Department','TripStart','TripEnd','TripStartMlifeTier', 'TripGamingDays','TripID')\n",
    "trip_CPA = CPA.groupBy('guest_id','TripStart','TripEnd', 'TripID').agg(F.count('Department').alias('dept_num'), F.max('Property_Name').alias('property_name'),\n",
    "                                                                              F.max('TripGamingDays').alias('TripGamingDays'), F.max('TripStartMlifeTier').alias('TripStartMlifeTier'))\n",
    "trip_br = trip_CPA.where(F.col('property_name').contains(regional))\n",
    "trip_br_2022 = trip_br.where('TripStart between \"2022-01-01\" and \"2022-12-31\"')\n",
    "trip_br_2023 = trip_br.where('TripStart between \"2023-01-01\" and \"2023-12-31\"')\n",
    "trip_br_2024 = trip_br.where('TripStart between \"2024-01-01\" and \"2024-12-31\"')\n",
    "\n",
    "trip_spec = trip_br_2024.join(trip_br_2023, on='guest_id', how='inner').select('guest_id').distinct()"
   ]
  },
  {
   "cell_type": "code",
   "execution_count": 0,
   "metadata": {
    "application/vnd.databricks.v1+cell": {
     "cellMetadata": {
      "byteLimit": 2048000,
      "rowLimit": 10000
     },
     "inputWidgets": {},
     "nuid": "9ba8d15a-bf47-403a-aec3-dead0b586f8d",
     "showTitle": false,
     "tableResultSettingsMap": {},
     "title": ""
    }
   },
   "outputs": [],
   "source": [
    "# Tier Credits Earning History from RCX\n",
    "tc_2022 = spark.read.parquet(f'dbfs:/mnt/proddatalake/dev/RCX/TC_2022.parquet')\n",
    "tc_2023 = spark.read.parquet(f'dbfs:/mnt/proddatalake/dev/RCX/TC_2023.parquet')\n",
    "tc_2024 = spark.read.parquet(f'dbfs:/mnt/proddatalake/dev/RCX/TC_2024.parquet')\n",
    "#tc_combined = tc_2022.union(tc_2023).union(tc_2024)\n",
    "# 2023 only\n",
    "tc_combined = tc_2023.union(tc_2024)\n",
    "\n",
    "tc_combined = tc_combined.groupBy('playerid').agg(\n",
    "    F.sum('tiercredit').alias('total_tc'), \n",
    "    F.sum(F.when(F.col('site_name').contains(regional), F.col('tiercredit')).otherwise(F.lit(0))).alias('regional_tc')\n",
    ")\n",
    "\n",
    "tc_combined = tc_combined.join(mgm_reward, F.col('playerid') == F.col('MLifeID'), how='inner').select(*tc_combined.columns, 'guest_id')\n",
    "\n",
    "# Filtering Borgata Dominant Players\n",
    "dominant_players = tc_combined.where('regional_tc > (total_tc * 0.8)').select('guest_id')\n",
    "# Filtering Trip Data\n",
    "trip = trip_CPA.join(trip_spec, on='guest_id', how='inner').join(dominant_players, on='guest_id', how='inner')"
   ]
  },
  {
   "cell_type": "code",
   "execution_count": 0,
   "metadata": {
    "application/vnd.databricks.v1+cell": {
     "cellMetadata": {
      "byteLimit": 2048000,
      "rowLimit": 10000
     },
     "inputWidgets": {},
     "nuid": "383c9219-efea-496f-88a6-396f033a6324",
     "showTitle": false,
     "tableResultSettingsMap": {},
     "title": ""
    }
   },
   "outputs": [],
   "source": [
    "TC_trip_2023 = TC_trip_formulation(2023, trip, spark)\n",
    "TC_customer_hist_2023 = TC_trip_2023.groupby('guest_id','calendar_year','change_assigned').agg(\n",
    "    F.count('*').alias('trip_num'),\n",
    "    F.min('tripstart').alias('earliest_trip'),\n",
    "    F.sum(F.date_diff('tripend', 'tripstart')+1).alias('trip_days'),\n",
    "    F.sum('TotalTierCredit').alias('TotalTierCredit'),\n",
    "    F.sum('gaming_tc').alias('gaming_tc'),\n",
    "    F.sum('non_gaming_tc').alias('non_gaming_tc'),\n",
    "    F.sum(F.when(F.col('TripLodgingStatus') == \"01 - In House\", 1).otherwise(0)).alias('lodger_trip'),\n",
    "    F.sum(F.when(F.col('TripLodgingStatus') == \"02 - Local\", 1).otherwise(0)).alias('local_trip'),\n",
    "    F.sum(F.when(F.col('TripLodgingStatus') == \"03 - Drop In\", 1).otherwise(0)).alias('non_loager_trip'),\n",
    "    F.min('tier').alias('tier'),\n",
    "    F.max('tier_before').alias('pro_tier'),\n",
    "    F.max('mt_reason').alias('reason_code'),\n",
    "    F.max('mt_subreason').alias('subreason_code'),\n",
    "    F.max('mth_reason').alias('mth_reason_code'),\n",
    "    F.max('mth_subreason').alias('mth_subreason_code')\n",
    ").withColumn(\n",
    "    'earliest_trip', F.date_diff(F.lit('2023-12-31'),'earliest_trip')\n",
    ").withColumn(\n",
    "    'trip_tier',\n",
    "    F.coalesce('pro_tier', F.substring(\"tier\", 2, 2).cast('int'))\n",
    ").withColumn(\n",
    "    'target_TC', \n",
    "    F.when(F.col('trip_tier')==1, 20000)\n",
    "    .when(F.col('trip_tier')==2, 75000)\n",
    "    .when(F.col('trip_tier')==3, 200000)\n",
    "    .otherwise(-1)\n",
    ").filter('target_tc != -1')"
   ]
  },
  {
   "cell_type": "code",
   "execution_count": 0,
   "metadata": {
    "application/vnd.databricks.v1+cell": {
     "cellMetadata": {
      "byteLimit": 2048000,
      "rowLimit": 10000
     },
     "inputWidgets": {},
     "nuid": "4d269598-31f2-4b35-a7d2-b351d5b82a64",
     "showTitle": false,
     "tableResultSettingsMap": {},
     "title": ""
    }
   },
   "outputs": [],
   "source": [
    "hist_combined_2023, hist_special_promotion_2023 = success_unsuccess_combination(TC_customer_hist_2023, rc, mgm_reward,2023, 0.8, spark)"
   ]
  },
  {
   "cell_type": "code",
   "execution_count": 0,
   "metadata": {
    "application/vnd.databricks.v1+cell": {
     "cellMetadata": {
      "byteLimit": 2048000,
      "rowLimit": 10000
     },
     "inputWidgets": {},
     "nuid": "033e8880-33e6-46c4-a5c7-ab4fb4608336",
     "showTitle": false,
     "tableResultSettingsMap": {},
     "title": ""
    }
   },
   "outputs": [],
   "source": [
    "TC_trip_2024 = TC_trip_formulation_daily_model(2024, trip, spark)\n",
    "train_2024 = TC_trip_2024.groupby('guest_id','calendar_year','change_assigned').agg(\n",
    "    F.count('*').alias('trip_num'), \n",
    "    F.sum('TotalTierCredit').alias('TotalTierCredit'),\n",
    "    F.sum('gaming_tc').alias('gaming_tc'),\n",
    "    F.sum('non_gaming_tc').alias('non_gaming_tc'),\n",
    "    F.min('tier').alias('tier'),\n",
    "    F.max('tier_before').alias('pro_tier'),\n",
    "    F.max('mt_reason').alias('reason_code'),\n",
    "    F.max('mt_subreason').alias('subreason_code'),\n",
    "    F.max('mth_reason').alias('mth_reason_code'),\n",
    "    F.max('mth_subreason').alias('mth_subreason_code'),\n",
    "    F.max('tier_after').alias('tier_after')\n",
    ").withColumn(\n",
    "    'trip_tier',\n",
    "    F.coalesce('pro_tier', F.substring(\"tier\", 2, 2).cast('int'))\n",
    ").withColumn(\n",
    "    'target_TC', \n",
    "    F.when(F.col('trip_tier')==1, 20000)\n",
    "    .when(F.col('trip_tier')==2, 75000)\n",
    "    .when(F.col('trip_tier')==3, 200000)\n",
    "    .otherwise(-1)\n",
    ").filter('target_tc != -1')\n",
    "\n",
    "windowSpec = Window.partitionBy(\"guest_id\").orderBy(\"TripStart\")\n",
    "TC_trip_2024 = TC_trip_2024.withColumn(\"row_number\", F.row_number().over(windowSpec))\n"
   ]
  },
  {
   "cell_type": "code",
   "execution_count": 0,
   "metadata": {
    "application/vnd.databricks.v1+cell": {
     "cellMetadata": {
      "byteLimit": 2048000,
      "rowLimit": 10000
     },
     "inputWidgets": {},
     "nuid": "306055b5-22f2-4d04-9f11-6ba62db38234",
     "showTitle": false,
     "tableResultSettingsMap": {},
     "title": ""
    }
   },
   "outputs": [],
   "source": [
    "year = 2024\n",
    "TC = spark.read.parquet(f'dbfs:/mnt/proddatalake/dev/RCX/TC_{year}.parquet')\n",
    "#train = get_train_daily(TC, hist, hist_special_promotion, 2024, TC_trip_2024, train_2024, mgm_reward, rc, la)\n",
    "# 2023 only\n",
    "train = get_train_daily(TC, hist_combined_2023, hist_special_promotion_2023, 2024, TC_trip_2024, train_2024, mgm_reward, rc, la)\n",
    "error= train.where('cuml_tc > target_tc and (transactiondate != change_assigned or change_assigned is null)').select('train_guest_id').distinct()\n",
    "train = train.join(error, on = 'train_guest_id', how='leftanti')"
   ]
  },
  {
   "cell_type": "code",
   "execution_count": 0,
   "metadata": {
    "application/vnd.databricks.v1+cell": {
     "cellMetadata": {
      "byteLimit": 2048000,
      "rowLimit": 10000
     },
     "inputWidgets": {},
     "nuid": "48f60f93-783f-4c5a-adb3-ad34efdb7781",
     "showTitle": false,
     "tableResultSettingsMap": {},
     "title": ""
    }
   },
   "outputs": [],
   "source": [
    "train.select(*FEATURE_NAMES_RETURN).describe().display()"
   ]
  },
  {
   "cell_type": "code",
   "execution_count": 0,
   "metadata": {
    "application/vnd.databricks.v1+cell": {
     "cellMetadata": {
      "byteLimit": 2048000,
      "rowLimit": 10000
     },
     "inputWidgets": {},
     "nuid": "6309db8b-cea3-4030-81cf-d12ad20de79a",
     "showTitle": false,
     "tableResultSettingsMap": {},
     "title": ""
    }
   },
   "outputs": [],
   "source": [
    "# mlflow.set_registry_uri(\"databricks-uc\")\n",
    "# scaler_model_path = \"models:/data_science_mart.tierimminent_cleaned.minmax_scaler_borgata_return@active\"\n",
    "# features = ['tiercredit', 'remaining_days', 'days_num', 'cuml_tc', 'trip_duration','trip_day','TripLodgingStatus', 'highest_trip_tier', 'gtc_percentage', 'ngtc_percentage', 'total_tc', 'trip_num', 'trip_days', 'earliest_trip', 'lodger_percentage', 'local_percentage', 'target_tc']\n",
    "# train = apply_minmax(train, features, scaler_model_path)\n",
    "# train.write.mode(\"overwrite\").parquet('/mnt/proddatalake/dev/TierImminent/data/BR_test.parquet')\n",
    "t = spark.read.parquet('dbfs:/mnt/proddatalake/dev/TierImminent/data/BR_test.parquet')\n",
    "\n",
    "# unsucess_id = t.groupby('train_guest_id').agg(F.count('change_assigned').alias('count')).where('count = 0').sample(withReplacement=False, fraction=0.5, seed=269)\n",
    "# train_final = t.join(unsucess_id, on = 'train_guest_id', how='leftanti').select(*train.columns)\n",
    "train_final = t.where('(change_assigned != transactiondate) or change_assigned is null')"
   ]
  },
  {
   "cell_type": "code",
   "execution_count": 0,
   "metadata": {
    "application/vnd.databricks.v1+cell": {
     "cellMetadata": {
      "byteLimit": 2048000,
      "rowLimit": 10000
     },
     "inputWidgets": {},
     "nuid": "a7910953-c13c-4cfe-9a73-87c50e2d6d1a",
     "showTitle": false,
     "tableResultSettingsMap": {},
     "title": ""
    }
   },
   "outputs": [],
   "source": [
    "loaded_model = mlflow.pytorch.load_model(f\"models:/data_science_mart.tierimminent_cleaned.borgata_lstm_model@newtrained\", map_location=torch.device('cpu'))"
   ]
  },
  {
   "cell_type": "code",
   "execution_count": 0,
   "metadata": {
    "application/vnd.databricks.v1+cell": {
     "cellMetadata": {
      "byteLimit": 2048000,
      "rowLimit": 10000
     },
     "inputWidgets": {},
     "nuid": "67824852-c58a-44b3-b044-ee8b8c44014e",
     "showTitle": false,
     "tableResultSettingsMap": {},
     "title": ""
    }
   },
   "outputs": [],
   "source": [
    "from tqdm import tqdm\n",
    "# outputs_ls, labels_ls, y_pred_ls_2, y_pred_ls_5, y_pred_ls_35 = [], [], [], [], []\n",
    "outputs_ls = []\n",
    "labels_ls = []\n",
    "remaining_ls = []\n",
    "new_outputs_ls = []\n",
    "id_ls = []\n",
    "X, y, l = None, np.array([]), np.array([])\n",
    "tier = pd.DataFrame(columns=['id','remaining_dyas','tier'])\n",
    "features = ['tiercredit', 'remaining_days', 'days_num', 'cuml_tc', 'trip_duration','trip_day','TripLodgingStatus', 'highest_trip_tier', 'gtc_percentage', 'ngtc_percentage', 'total_tc', 'trip_num', 'trip_days', 'earliest_trip', 'lodger_percentage', 'local_percentage', 'target_tc']\n",
    "#features = ['tiercredit', 'remaining_days', 'days_num', 'cuml_tc', 'trip_duration','trip_day','TripLodgingStatus', 'lodger_percentage', 'local_percentage', 'target_tc']\n",
    "for j in range(len(features)):\n",
    "    features[j] = features[j]+'_scaled'\n",
    "for i in tqdm(range(365, 0, -1)):\n",
    "    cus_list = train_final.filter(train_final.remaining_days == i).select(F.col('train_guest_id').alias('id')).distinct()\n",
    "    temp_df = train_final.join(cus_list, (train_final.train_guest_id == cus_list.id) & (train_final.remaining_days >= i), how = 'inner')\n",
    "    temp_df = temp_df.withColumn('rn', F.row_number().over(Window.partitionBy('train_guest_id').orderBy('remaining_days'))).where('rn <= 6')\n",
    "    # t = temp_df.groupby('train_guest_id','remaining_days').agg(F.min('target_tc').alias('tier')).where(f'remaining_days == {i}')\n",
    "    # t = t.toPandas()\n",
    "    # tier = pd.concat([tier, t], ignore_index=True)\n",
    " \n",
    "    train_np, label, length, train_id = create_sequences_and_labels(temp_df, features, 6)\n",
    "    if X is None:\n",
    "        X = train_np\n",
    "    else:\n",
    "        X = np.append(X, train_np, axis = 0)\n",
    "    y = np.append(y, label)\n",
    "    l = np.append(l, length)\n",
    "    \n",
    "    # X = torch.tensor(train_np, dtype=torch.float32).cpu()\n",
    "    # len_X = torch.tensor(length, dtype=torch.float32).cpu()\n",
    "    # with torch.no_grad():\n",
    "    #     outputs = loaded_model(X, len_X).squeeze()\n",
    "    # outputs = torch.sigmoid(outputs)\n",
    "\n",
    "    test_X = torch.tensor(train_np, dtype=torch.float32).cpu()\n",
    "    len_X = torch.tensor(length, dtype=torch.float32).cpu()\n",
    "    with torch.no_grad():\n",
    "        new_outputs = loaded_model(test_X, len_X).squeeze()\n",
    "\n",
    "    new_outputs = torch.sigmoid(new_outputs)\n",
    "\n",
    "\n",
    "    # y_pred_2 = [1 if prob >= 0.2 else 0 for prob in outputs]\n",
    "    # y_pred_5 = [1 if prob >= 0.5 else 0 for prob in outputs]\n",
    "    # y_pred_35 = [1 if prob >= 0.35 else 0 for prob in outputs]\n",
    "\n",
    "    # for i, p in zip(train_id, y_pred):\n",
    "    #     if p == 1:\n",
    "    #         if i in output_dict:\n",
    "    #             output_dict[i] += 1\n",
    "    #         else:\n",
    "    #             output_dict[i] = 1\n",
    "                                                                                                                                                              \n",
    "    # y_pred_ls_2.extend(y_pred_2)  \n",
    "    # y_pred_ls_5.extend(y_pred_5)\n",
    "    # y_pred_ls_35.extend(y_pred_35)\n",
    "    # outputs_ls.extend(outputs)\n",
    "    # labels_ls.extend(label)\n",
    "    # id_ls.extend(train_id)\n",
    "    # remaining_ls.extend([i]*len(label))\n",
    "    new_outputs_ls.extend(new_outputs)\n",
    "    labels_ls.extend(label)\n",
    "    id_ls.extend(train_id)\n",
    "    remaining_ls.extend([i]*len(label))\n"
   ]
  },
  {
   "cell_type": "code",
   "execution_count": 0,
   "metadata": {
    "application/vnd.databricks.v1+cell": {
     "cellMetadata": {
      "byteLimit": 2048000,
      "rowLimit": 10000
     },
     "inputWidgets": {},
     "nuid": "5bfddaab-0d98-4762-8592-3636e104e6f3",
     "showTitle": false,
     "tableResultSettingsMap": {},
     "title": ""
    }
   },
   "outputs": [],
   "source": [
    "new_outputs_ls = [tensor.item() for tensor in new_outputs_ls]\n",
    "t = pd.DataFrame(columns=['train_guest_id','remaining_days','label'])\n",
    "t['label'] = labels_ls\n",
    "t['train_guest_id'] = id_ls\n",
    "t['remaining_days'] = remaining_ls\n",
    "t['new_output'] = new_outputs_ls\n",
    "t['rn'] = t.groupby('train_guest_id')['remaining_days'].transform('count')\n",
    "\n",
    "t_df = spark.createDataFrame(t)"
   ]
  },
  {
   "cell_type": "code",
   "execution_count": 0,
   "metadata": {
    "application/vnd.databricks.v1+cell": {
     "cellMetadata": {
      "byteLimit": 2048000,
      "rowLimit": 10000
     },
     "inputWidgets": {},
     "nuid": "3672c5ee-1f18-4088-a8b1-d5d4be978f0a",
     "showTitle": false,
     "tableResultSettingsMap": {},
     "title": ""
    }
   },
   "outputs": [],
   "source": [
    "br = spark.read.parquet('dbfs:/mnt/proddatalake/dev/TierImminent/data/BR_test.parquet')\n",
    "success_cus = br.groupby('train_guest_id').agg(F.sum('label').alias('success')).where('success > 0').select('train_guest_id')\n",
    "analysis_df = br.join(t_df, on=['train_guest_id','remaining_days'], how='inner').join(success_cus, on='train_guest_id', how='leftanti')\n",
    "above_thresh_cus = analysis_df.groupby('train_guest_id').agg(F.max('new_output').alias('percentage')).where('percentage > 0.5').select('train_guest_id')"
   ]
  },
  {
   "cell_type": "code",
   "execution_count": 0,
   "metadata": {
    "application/vnd.databricks.v1+cell": {
     "cellMetadata": {
      "byteLimit": 2048000,
      "rowLimit": 10000
     },
     "inputWidgets": {},
     "nuid": "c9bacb0b-db66-4b77-b478-05ea361491bc",
     "showTitle": false,
     "tableResultSettingsMap": {},
     "title": ""
    }
   },
   "outputs": [],
   "source": [
    "target_analysis = analysis_df.\\\n",
    "    join(above_thresh_cus, on='train_guest_id', how='inner').join(customer_data, analysis_df.train_guest_id == customer_data.guest_id, how='inner').\\\n",
    "        join(cfa, analysis_df.train_guest_id == cfa.guest_id, how='inner').\\\n",
    "            select('train_guest_id',\n",
    "                    'transactiondate',\n",
    "                    'tiercredit',\n",
    "                    'cuml_tc',\n",
    "                    'trip_duration',\n",
    "                    'TripLodgingStatus',\n",
    "                    'gtc_percentage',\n",
    "                    'ngtc_percentage',\n",
    "                    'total_tc',\n",
    "                    'target_tc',\n",
    "                    'new_output',\n",
    "                    'rn','playertypeltd_corporate', 'l18m_ATW')\n",
    "target_analysis = target_analysis.join(trip_data,\n",
    "                                       (target_analysis.train_guest_id == trip_data.guest_id) &(target_analysis.transactiondate >= trip_data.TripStart) & (target_analysis.transactiondate <= trip_data.TripEnd), how='inner')"
   ]
  },
  {
   "cell_type": "code",
   "execution_count": 0,
   "metadata": {
    "application/vnd.databricks.v1+cell": {
     "cellMetadata": {
      "byteLimit": 2048000,
      "rowLimit": 10000
     },
     "inputWidgets": {},
     "nuid": "0b798c9c-e82d-43d7-be15-871c288714cc",
     "showTitle": false,
     "tableResultSettingsMap": {},
     "title": ""
    }
   },
   "outputs": [],
   "source": [
    "target_analysis.display()"
   ]
  },
  {
   "cell_type": "code",
   "execution_count": 0,
   "metadata": {
    "application/vnd.databricks.v1+cell": {
     "cellMetadata": {
      "byteLimit": 2048000,
      "rowLimit": 10000
     },
     "inputWidgets": {},
     "nuid": "91873c4a-5ac0-4d5d-a698-5c03c397d5c5",
     "showTitle": false,
     "tableResultSettingsMap": {},
     "title": ""
    }
   },
   "outputs": [],
   "source": [
    "target_analysis.groupby('train_guest_id').agg(F.max('playertypeltd_corporate').alias('game')).groupby('game').count().display()"
   ]
  },
  {
   "cell_type": "code",
   "execution_count": 0,
   "metadata": {
    "application/vnd.databricks.v1+cell": {
     "cellMetadata": {
      "byteLimit": 2048000,
      "rowLimit": 10000
     },
     "inputWidgets": {},
     "nuid": "653a0ed8-91a0-4f04-b424-762dcc81d89f",
     "showTitle": false,
     "tableResultSettingsMap": {},
     "title": ""
    }
   },
   "outputs": [],
   "source": [
    "target_analysis.groupby('TripLodgingStatus').count().display()"
   ]
  },
  {
   "cell_type": "code",
   "execution_count": 0,
   "metadata": {
    "application/vnd.databricks.v1+cell": {
     "cellMetadata": {
      "byteLimit": 2048000,
      "rowLimit": 10000
     },
     "inputWidgets": {},
     "nuid": "92e955a5-eba7-4ea3-bdd6-9a4d2d780e6f",
     "showTitle": false,
     "tableResultSettingsMap": {},
     "title": ""
    }
   },
   "outputs": [],
   "source": [
    "re = 254\n",
    "guest_id = 34617619\n",
    "cus_list = df.filter(df.remaining_days == re).select('train_guest_id')\n",
    "temp_df = df.join(cus_list, (df.train_guest_id == cus_list.train_guest_id) & (df.remaining_days >= re), how = 'inner').drop(df.train_guest_id)\n",
    "\n",
    "temp_df = temp_df.withColumn('rn', F.row_number().over(Window.partitionBy('train_guest_id').orderBy('remaining_days'))).where('rn <= 6')\n",
    "\n",
    "# train_np, label, length, train_id = create_sequences_and_labels(temp_df, features, 6)\n",
    "\n",
    "# X = torch.tensor(train_np, dtype=torch.float32).cpu()\n",
    "# len_X = torch.tensor(length, dtype=torch.float32).cpu()\n",
    "# with torch.no_grad():\n",
    "#     outputs = loaded_model(X, len_X).squeeze()\n",
    "# outputs = torch.sigmoid(outputs)\n",
    "\n",
    "\n",
    "features = ['tiercredit', 'remaining_days', 'days_num', 'cuml_tc', 'trip_duration','trip_day','TripLodgingStatus', 'highest_trip_tier', 'gtc_percentage', 'ngtc_percentage', 'total_tc', 'trip_num', 'trip_days', 'earliest_trip', 'lodger_percentage', 'local_percentage', 'target_tc']\n",
    "temp_df.where(f'train_guest_id = {guest_id}').select('train_guest_id','transactiondate','change_assigned','label', *features, 'features_array').display()"
   ]
  },
  {
   "cell_type": "code",
   "execution_count": 0,
   "metadata": {
    "application/vnd.databricks.v1+cell": {
     "cellMetadata": {
      "byteLimit": 2048000,
      "rowLimit": 10000
     },
     "inputWidgets": {},
     "nuid": "baa544f7-6c58-4c8f-a486-0654fc46f5c5",
     "showTitle": false,
     "tableResultSettingsMap": {},
     "title": ""
    }
   },
   "outputs": [],
   "source": [
    "test_X = torch.tensor(X, dtype=torch.float32).cpu()\n",
    "len_X = torch.tensor(l, dtype=torch.float32).cpu()\n",
    "with torch.no_grad():\n",
    "    outputs = loaded_model(test_X, len_X).squeeze()\n",
    "outputs = torch.sigmoid(outputs)"
   ]
  },
  {
   "cell_type": "code",
   "execution_count": 0,
   "metadata": {
    "application/vnd.databricks.v1+cell": {
     "cellMetadata": {
      "byteLimit": 2048000,
      "rowLimit": 10000
     },
     "inputWidgets": {},
     "nuid": "3f2e8ced-f2ba-4dbf-9c85-2c471f893ab6",
     "showTitle": false,
     "tableResultSettingsMap": {},
     "title": ""
    }
   },
   "outputs": [],
   "source": [
    "fpr, tpr, thresholds = roc_curve(y, outputs)\n",
    "auc_score = roc_auc_score(y, outputs)\n",
    "plt.figure()\n",
    "plt.plot(fpr, tpr, label=f\"ROC Curve (AUC = {auc_score:.2f})\")\n",
    "plt.plot([0, 1], [0, 1], 'k--', label=\"Random Guess\")\n",
    "plt.xlabel(\"False Positive Rate\")\n",
    "plt.ylabel(\"True Positive Rate\")\n",
    "plt.title(\"ROC Curve\")\n",
    "plt.legend(loc=\"best\")\n",
    "plt.grid()\n",
    "for i in range(0, len(thresholds), len(thresholds)//20):\n",
    "    plt.text(fpr[i], tpr[i], f'{thresholds[i]:.2f}', fontsize=8, color='red')\n",
    "#plt.savefig(\"/Workspace/Users/609399@mgmresorts.com/Tier Imminent/model_performance_metric/sim_2024_roc.png\")\n",
    "plt.show()\n",
    "plt.close() "
   ]
  },
  {
   "cell_type": "code",
   "execution_count": 0,
   "metadata": {
    "application/vnd.databricks.v1+cell": {
     "cellMetadata": {
      "byteLimit": 2048000,
      "rowLimit": 10000
     },
     "inputWidgets": {},
     "nuid": "7ea09bac-3d91-40f3-a42a-2ee965d2ec32",
     "showTitle": false,
     "tableResultSettingsMap": {},
     "title": ""
    }
   },
   "outputs": [],
   "source": [
    "for i in range(0,len(thresholds)):\n",
    "    if thresholds[i] < 0.5:\n",
    "        print(i)\n",
    "        break"
   ]
  },
  {
   "cell_type": "code",
   "execution_count": 0,
   "metadata": {
    "application/vnd.databricks.v1+cell": {
     "cellMetadata": {
      "byteLimit": 2048000,
      "rowLimit": 10000
     },
     "inputWidgets": {},
     "nuid": "93c44296-23b0-4476-a6aa-f5a6eab1100d",
     "showTitle": false,
     "tableResultSettingsMap": {},
     "title": ""
    }
   },
   "outputs": [],
   "source": [
    "fpr[9028]"
   ]
  }
 ],
 "metadata": {
  "application/vnd.databricks.v1+notebook": {
   "computePreferences": null,
   "dashboards": [],
   "environmentMetadata": {
    "base_environment": "",
    "environment_version": "1"
   },
   "language": "python",
   "notebookMetadata": {
    "pythonIndentUnit": 4
   },
   "notebookName": "(Clone) Test_other_regional_property_return",
   "widgets": {}
  },
  "language_info": {
   "name": "python"
  }
 },
 "nbformat": 4,
 "nbformat_minor": 0
}
