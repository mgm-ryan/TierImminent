{
 "cells": [
  {
   "cell_type": "code",
   "execution_count": 0,
   "metadata": {
    "application/vnd.databricks.v1+cell": {
     "cellMetadata": {
      "byteLimit": 2048000,
      "rowLimit": 10000
     },
     "inputWidgets": {},
     "nuid": "46c31fd0-ffac-4271-b08e-16a745ebf784",
     "showTitle": false,
     "tableResultSettingsMap": {},
     "title": ""
    }
   },
   "outputs": [],
   "source": [
    "%load_ext autoreload\n",
    "%autoreload 2\n",
    "import os\n",
    "import pandas as pd\n",
    "import matplotlib.pyplot as plt\n",
    "import pyspark.sql.functions as F\n",
    "from pyspark.sql import Window\n",
    "from pyspark.sql.types import ArrayType, FloatType\n",
    "\n",
    "from pyspark.ml.feature import StringIndexer, OneHotEncoder, VectorAssembler\n",
    "from pyspark.ml.classification import LogisticRegression\n",
    "from pyspark.ml import Pipeline\n",
    "from pyspark.ml.evaluation import BinaryClassificationEvaluator\n",
    "from pyspark.ml.feature import StringIndexer, OneHotEncoder\n",
    "from pyspark.ml import Pipeline\n",
    "\n",
    "from sklearn.model_selection import train_test_split\n",
    "from sklearn.metrics import accuracy_score, classification_report, f1_score, precision_score, recall_score\n",
    "from sklearn.preprocessing import OneHotEncoder\n",
    "from sklearn.compose import ColumnTransformer\n",
    "\n",
    "import lightgbm as lgb\n",
    "\n",
    "from components.data_prep import *\n",
    "from components.preprocess import *\n",
    "#from model.nn import *\n",
    "from components.helper import *\n",
    "#from ingestion import *\n",
    "cdp_path='/dbfs/mnt/cdpprod/Customer_Profile_Aggregates/'\n",
    "mgm_reward = spark.read.parquet('dbfs:/mnt/proddatalake/prod/CFA/CFA_overall_lvl')\n",
    "rc = spark.read.format(\"delta\").load('dbfs:/mnt/edhprodenrich/Enterprise Data Store/Secured/data/Cleanse/RCX/RCX_enums/CurrentState')\n",
    "la = spark.read.format(\"delta\").load(\"dbfs:/mnt/edhprodenrich/Enterprise Data Store/Secured/data/Cleanse/RCX/RCX_loyalty_activities/CurrentState\")"
   ]
  },
  {
   "cell_type": "code",
   "execution_count": 0,
   "metadata": {
    "application/vnd.databricks.v1+cell": {
     "cellMetadata": {},
     "inputWidgets": {},
     "nuid": "09ba6d07-d1f5-4e53-bff0-118eceec48a8",
     "showTitle": false,
     "tableResultSettingsMap": {},
     "title": ""
    }
   },
   "outputs": [],
   "source": [
    "yesterday=str(max(os.listdir(cdp_path)))\n",
    "\n",
    "trip_data = spark.read.parquet('dbfs:/mnt/cdpprod/Customer_Profile_Aggregates/'+yesterday+'/')\\\n",
    "            .withColumn('Site', F.when(F.col('SiteGroup') == 'LAS', 'Vegas').otherwise('Region'))\\\n",
    "            .filter(F.col('Mnth')>='2016-01-01')\\\n",
    "            .filter((F.col('TripRvMgmt_Segment')!='Convention')|F.col('TripRvMgmt_Segment').isNull())\n",
    "trip_data = trip_data.withColumn(\"TripID\",F.concat(F.col(\"Guest_ID\"),F.lit('_'), F.col(\"TripStart\"),F.lit('_'),F.col(\"TripEnd\")))\n",
    "\n",
    "CPA = trip_data.where(\"property_name != 'BetMGM' and tripstart < '2024-12-31'\").select('guest_id','Property_Name','Department','TripStart','TripEnd','TripStartMlifeTier', 'TripGamingDays','TripID')\n",
    "trip_CPA = CPA.groupBy('guest_id','TripStart','TripEnd', 'TripID').agg(F.count('Department').alias('dept_num'), F.max('Property_Name').alias('property_name'),\n",
    "                                                                              F.max('TripGamingDays').alias('TripGamingDays'), F.max('TripStartMlifeTier').alias('TripStartMlifeTier'))\n",
    "trip_test = trip_CPA.where(F.col('property_name').contains(\"Borgata\"))\n",
    "trip_test_2022 = trip_test.where('TripStart between \"2022-01-01\" and \"2022-12-31\"')\n",
    "trip_test_2023 = trip_test.where('TripStart between \"2023-01-01\" and \"2023-12-31\"')\n",
    "trip_test_2024 = trip_test.where('TripStart between \"2024-01-01\" and \"2024-12-31\"')"
   ]
  },
  {
   "cell_type": "code",
   "execution_count": 0,
   "metadata": {
    "application/vnd.databricks.v1+cell": {
     "cellMetadata": {},
     "inputWidgets": {},
     "nuid": "7460d562-7a5b-4a03-95c4-498ceede5d2f",
     "showTitle": false,
     "tableResultSettingsMap": {},
     "title": ""
    }
   },
   "outputs": [],
   "source": [
    "trip_spec_2024 = trip_test_2024.join(trip_test_2023, on='guest_id', how='inner').select('guest_id').distinct()\n",
    "new_trip = trip_test_2024.join(trip_spec_2024, on = 'guest_id', how = 'leftanti')\n",
    "\n",
    "tc_2023 = spark.read.parquet(f'dbfs:/mnt/proddatalake/dev/RCX/TC_2023.parquet')\n",
    "tc_2024 = spark.read.parquet(f'dbfs:/mnt/proddatalake/dev/RCX/TC_2024.parquet')\n",
    "\n",
    "tc_2024 = tc_2024.groupBy('playerid').agg(\n",
    "    F.sum('tiercredit').alias('total_tc'), \n",
    "    F.sum(F.when(F.col('site_name').contains('Borgata'), F.col('tiercredit')).otherwise(F.lit(0))).alias('borgata_tc')\n",
    ")\n",
    "tc_2024 = tc_2024.join(mgm_reward, F.col('playerid') == F.col('MLifeID'), how='inner').select(*tc_2024.columns, 'guest_id')\n",
    "\n",
    "# Filtering Borgata Dominant Players\n",
    "borgata_dominant_players = tc_2024.where('borgata_tc > 0.8').select('guest_id')\n",
    "trip = new_trip.join(borgata_dominant_players, on='guest_id', how='inner')"
   ]
  }
 ],
 "metadata": {
  "application/vnd.databricks.v1+notebook": {
   "computePreferences": null,
   "dashboards": [],
   "environmentMetadata": {
    "base_environment": "",
    "environment_version": "2"
   },
   "language": "python",
   "notebookMetadata": {
    "pythonIndentUnit": 4
   },
   "notebookName": "Untitled Notebook 2025-01-30 14_47_50",
   "widgets": {}
  },
  "language_info": {
   "name": "python"
  }
 },
 "nbformat": 4,
 "nbformat_minor": 0
}
